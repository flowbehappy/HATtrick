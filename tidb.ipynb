{
 "cells": [
  {
   "cell_type": "code",
   "execution_count": null,
   "metadata": {
    "id": "IJBeTDFhgezo"
   },
   "outputs": [],
   "source": [
    "path = \"results/\""
   ]
  },
  {
   "cell_type": "markdown",
   "metadata": {
    "id": "Dpl3x_cM87_D"
   },
   "source": [
    "# Colors"
   ]
  },
  {
   "cell_type": "code",
   "execution_count": null,
   "metadata": {
    "id": "5Zt6uTQI87_H"
   },
   "outputs": [],
   "source": [
    "colors = [['#7f2704', '#a50f15', '#de2d26', '#fb6a4a', '#ff005d', '#fcbba1'], \n",
    "          ['#000000', '#464b52', '#3d6085', '#3f7eb5', '#3ca5e8', '#79e8ff']]"
   ]
  },
  {
   "cell_type": "markdown",
   "metadata": {
    "id": "WY-78N1d87_I"
   },
   "source": [
    "# Functions"
   ]
  },
  {
   "cell_type": "markdown",
   "metadata": {
    "id": "GURisBy887_I"
   },
   "source": [
    "### Functions for preprocessing & ploting"
   ]
  },
  {
   "cell_type": "code",
   "execution_count": null,
   "metadata": {
    "id": "n61NneO287_I"
   },
   "outputs": [],
   "source": [
    "import numpy as np\n",
    "import matplotlib.pyplot as plt\n",
    "from sklearn import metrics\n",
    "import math\n",
    "import os\n",
    "\n",
    "try:\n",
    "    os.mkdir(os.path.join(path, 'Plots'))\n",
    "except OSError as error:\n",
    "    pass"
   ]
  },
  {
   "cell_type": "code",
   "execution_count": null,
   "metadata": {
    "id": "O8IyUAXY87_J"
   },
   "outputs": [],
   "source": [
    "def preprocess( path,  ):\n",
    "    # preprocess the files with the results and extract plotting information\n",
    "    num_ratios = 6\n",
    "    district_tc = 6\n",
    "\n",
    "    throughputs = np.genfromtxt(path, delimiter = None)\n",
    "    \n",
    "    # Compute frontier\n",
    "    frontier_idx = [];\n",
    "    drop = 0;\n",
    "    for i in range(0, len(throughputs)):\n",
    "        for j in range(0, len(throughputs)):\n",
    "            if((i != j) and (throughputs[i][0] <= throughputs[j][0]) and (throughputs[i][1] <= throughputs[j][1])):\n",
    "                drop = 1;\n",
    "        if(drop == 0):\n",
    "            frontier_idx.append(i)\n",
    "        else:\n",
    "            drop = 0;\n",
    "    \n",
    "    frontier_len = len(frontier_idx)\n",
    "    frontier = np.empty([2, frontier_len])\n",
    "    for i in range(0, frontier_len):\n",
    "        frontier[0][i] = throughputs[frontier_idx[i]][0]\n",
    "        frontier[1][i] = throughputs[frontier_idx[i]][1]\n",
    "    idx = np.argsort(frontier[0])\n",
    "    \n",
    "    # Vertical Lines - Fixed T\n",
    "    district_tc = num_ratios #int(len(throughputs)/num_ratios)  # number of different T clients \n",
    "    district_ac = num_ratios  # number of different A clients\n",
    "    \n",
    "    offset = len(throughputs) - (district_tc * district_ac) # The data point offset of real mix workload\n",
    "\n",
    "    tt_v = np.empty([district_tc, district_ac])\n",
    "    ta_v = np.empty([district_tc, district_ac])\n",
    "    for i in range(0, district_tc):\n",
    "        for j in range(0, district_ac):\n",
    "            tt_v[i][j] = throughputs[i* district_ac + j + offset][0]\n",
    "            ta_v[i][j] = throughputs[i* district_ac + j + offset][1]\n",
    "    \n",
    "    # Horizontal Lines - Fixed A\n",
    "    ta_h = np.empty([district_ac, district_tc])\n",
    "    tt_h = np.empty([district_ac, district_tc])\n",
    "    for i in range(0, district_ac):\n",
    "        for j in range(0, district_tc):\n",
    "            tt_h[i][j] = throughputs[j* district_ac + i + offset][0]\n",
    "            ta_h[i][j] = throughputs[j* district_ac + i + offset][1]\n",
    "            \n",
    "    return tt_v, ta_v, tt_h, ta_h, district_tc, frontier, idx"
   ]
  },
  {
   "cell_type": "code",
   "execution_count": null,
   "metadata": {
    "id": "0-2ggv5Z87_K"
   },
   "outputs": [],
   "source": [
    "def regular_plot(x, y, n, label, clients, choice, plt):\n",
    "\n",
    "    for i in range(0, n):  \n",
    "      if i%2 == 0:\n",
    "            #print(\"i:\", i)\n",
    "            plt.plot(list(x[i]), list(y[i]), 'o-', c=colors[choice][i], label=clients[choice][i], markerfacecolor='none', linewidth=6.0, markersize=10)\n",
    "      else:\n",
    "            #print(\"i:\", i)\n",
    "            plt.plot(list(x[i]), list(y[i]), 's-', c=colors[choice][i], label=clients[choice][i], markerfacecolor='none', linewidth=4.0, markersize=10)\n",
    "    \n",
    "    plt.grid(color='#CCCCCC', linestyle='--', linewidth=0.5)\n",
    "\n",
    "    tc = [x[2][4], x[3][3], x[4][2]]\n",
    "    ac = [y[2][4], y[3][3], y[4][2]]\n",
    "\n",
    "    #plt.xlabel('Transactional Throughput (tps)', fontsize=14)\n",
    "    #plt.ylabel('Analytical Throughtput (qps)', fontsize=14)\n",
    "    #plt.rc('grid', linestyle=\"--\", color='#CCCCCC')\n",
    "    #plt.title(label, fontsize=15)\n",
    "    #plt.legend(loc=\"upper right\", prop={'size':17})\n",
    "    #plt.rcParams.update({'font.size': 15})\n",
    "    #plt.grid()\n",
    "    #plt.show()\n",
    "    \n",
    "    return tc, ac"
   ]
  },
  {
   "cell_type": "code",
   "execution_count": null,
   "metadata": {
    "id": "Hx_wSwNZ87_K"
   },
   "outputs": [],
   "source": [
    "def double_regular_plot(x_v, y_v, x_h, y_h, n, label, choice, plt):\n",
    "\n",
    "    for i in range(0, district_tc): \n",
    "        if (i==0):\n",
    "            plt.plot(list(x_v[i]), list(y_v[i]), 'o--', c=colors[0][3],markerfacecolor='none', linewidth=3, label='Fixed-T lines',  markersize=10)\n",
    "        else:\n",
    "            plt.plot(list(x_v[i]), list(y_v[i]), 'o--', c=colors[0][3],markerfacecolor='none', linewidth=3,  markersize=10)\n",
    "\n",
    "    for i in range(0, district_tc):   \n",
    "        if(i==0):\n",
    "            plt.plot(list(x_h[i]), list(y_h[i]), 'o--', c=colors[1][4], markerfacecolor='none', linewidth=3, label='Fixed-A lines',  markersize=10)\n",
    "        else:\n",
    "            plt.plot(list(x_h[i]), list(y_h[i]), 'o--', c=colors[1][4], markerfacecolor='none', linewidth=3,  markersize=10)\n",
    "\n",
    "    plt.grid(color='#CCCCCC', linestyle='--', linewidth=0.6)\n",
    "\n",
    "    #plt.xlabel('Transactional Throughput (tps)', fontsize=20)\n",
    "    #plt.ylabel('Analytical Throughtput (qps)', fontsize=20)\n",
    "    #plt.rc('grid', linestyle=\"--\", color='#CCCCCC', linewidth=1)\n",
    "    #plt.title(label, fontsize=20)\n",
    "    #plt.legend(loc=\"upper right\")\n",
    "    #plt.rcParams.update({'font.size': 20})\n",
    "    #plt.grid()\n",
    "    print(\"plt:\", plt)\n",
    "\n",
    "    return"
   ]
  },
  {
   "cell_type": "code",
   "execution_count": null,
   "metadata": {
    "id": "dBSL0Dwp87_K"
   },
   "outputs": [],
   "source": [
    "def frontier_plot(x, idx, label, plt, tc, ac, vx1, vy1, vx2, vy2, vx3, vy3, t1, t2, t3, type):\n",
    "    \n",
    "    plt.plot(x[0][idx], x[1][idx], '-', c='green', linewidth=6.0, label='Frontier', zorder=2)\n",
    "    plt.fill_between(x[0][idx], x[1][idx], color='grey', hatch='//', alpha=0.08,  label='AUC') \n",
    "    \n",
    "    plt.grid(color='#CCCCCC', linestyle='--', linewidth=0.8, zorder=1)\n",
    "    if type == 1:\n",
    "      plt.scatter(tc, ac, marker=\"o\", s=100, color='#000000',zorder=3)\n",
    "      arrow_properties = dict(\n",
    "      facecolor=\"black\", width=0.5,\n",
    "      headwidth=0, shrink=0.1)\n",
    "      plt.annotate(t1, (tc[0], ac[0]), xytext =(tc[0]+vx1, ac[0]+vy1), color='#000000', size=30, weight='bold', arrowprops=arrow_properties)\n",
    "      plt.annotate(t2, (tc[1], ac[1]), xytext =(tc[1]+vx2, ac[1]+vy2), color='#000000', size=30, weight='bold', arrowprops=arrow_properties)\n",
    "      plt.annotate(t3, (tc[2], ac[2]), xytext =(tc[2]+vx3, ac[2]+vy3), color='#000000', size=30, weight='bold',arrowprops=arrow_properties)\n",
    "\n",
    "    #plt.xlabel('Transactional Throughput (tps)', fontsize=14)\n",
    "    #plt.ylabel('Analytical Throughtput (qps)', fontsize=14)\n",
    "    #plt.rc('grid', linestyle=\"--\", color='#CCCCCC')\n",
    "    #plt.title(label, fontsize=15)\n",
    "    #plt.legend(loc=\"center right\", prop={'size':14})\n",
    "    #plt.rcParams.update({'font.size': 15})\n",
    "    #plt.grid()\n",
    "    #plt.show()\n",
    "    \n",
    "    return"
   ]
  },
  {
   "cell_type": "code",
   "execution_count": null,
   "metadata": {
    "id": "TqUgCU0j87_L"
   },
   "outputs": [],
   "source": [
    "def area_between_curves(frontier, idx, label):\n",
    "    proportional_line(frontier, idx)\n",
    "    proportional = [[0, maxTT(frontier, idx)],[maxAT(frontier, idx), 0]]\n",
    "    x = range(0, math.floor(maxTT(frontier, idx)), math.floor(maxTT(frontier, idx)/(len(frontier[0][idx])-1)))\n",
    "    y = - (maxAT(frontier, idx)/maxTT(frontier, idx))*x + maxAT(frontier, idx)\n",
    "    plt.plot(frontier[0][idx], frontier[1][idx], '-', c='green', linewidth=3.0, label='Frontier')\n",
    "    plt.fill_between(np.append(frontier[0][idx], x[::-1]), np.append(frontier[1][idx], y[::-1]), color='grey', hatch='//', alpha=0.08,  label='Area between curves') \n",
    "    plt.xlabel('Transactional Throughput (tps)', fontsize=14)\n",
    "    plt.ylabel('Analytical Throughtput (qps)', fontsize=14)\n",
    "    plt.rc('grid', linestyle=\"--\", color='#CCCCCC')\n",
    "    plt.title(label, fontsize=16)\n",
    "    plt.legend(loc=\"center right\")\n",
    "    plt.rcParams.update({'font.size': 10})\n",
    "    plt.grid()\n",
    "    plt.show()\n",
    "    return y"
   ]
  },
  {
   "cell_type": "code",
   "execution_count": null,
   "metadata": {
    "id": "qe859uFO87_L"
   },
   "outputs": [],
   "source": [
    " #       ===============   =============\n",
    " #       Location String   Location Code\n",
    " #       ===============   =============\n",
    " #       'best'            0\n",
    " #       'upper right'     1\n",
    " #       'upper left'      2\n",
    " #       'lower left'      3\n",
    " #       'lower right'     4\n",
    " #       'right'           5\n",
    " #       'center left'     6\n",
    " #       'center right'    7\n",
    " #       'lower center'    8\n",
    " #       'upper center'    9\n",
    " #       'center'          10\n",
    " #       ===============   ============="
   ]
  },
  {
   "cell_type": "markdown",
   "metadata": {
    "id": "BlIDkUwS87_L"
   },
   "source": [
    "### Functions for metrics"
   ]
  },
  {
   "cell_type": "code",
   "execution_count": null,
   "metadata": {
    "id": "bKNXn5MT87_L"
   },
   "outputs": [],
   "source": [
    "#Compute Area Under the Curve (AUC) using the trapezoidal rule.\n",
    "def auc_fun(x, i):\n",
    "    auc = metrics.auc(x[0][i], x[1][i])\n",
    "    return auc"
   ]
  },
  {
   "cell_type": "code",
   "execution_count": null,
   "metadata": {
    "id": "3hmOUzAr87_L"
   },
   "outputs": [],
   "source": [
    "def slope(x, i):\n",
    "    slope = x[1][i].max()/x[0][i].max()\n",
    "    return slope"
   ]
  },
  {
   "cell_type": "code",
   "execution_count": null,
   "metadata": {
    "id": "908Elpie87_M"
   },
   "outputs": [],
   "source": [
    "def maxTT(x, i):\n",
    "    maxTT = x[0][i].max()\n",
    "    return maxTT"
   ]
  },
  {
   "cell_type": "code",
   "execution_count": null,
   "metadata": {
    "id": "1w5xPmXl87_M"
   },
   "outputs": [],
   "source": [
    "def maxAT(x, i):\n",
    "    maxAT = x[1][i].max()\n",
    "    return maxAT"
   ]
  },
  {
   "cell_type": "code",
   "execution_count": null,
   "metadata": {
    "id": "Ev_tdPaG87_M"
   },
   "outputs": [],
   "source": [
    "def proportional_line(frontier, idx, plt):\n",
    "    \n",
    "    proportional = [[0, maxTT(frontier, idx)],[maxAT(frontier, idx), 0]]\n",
    "    plt.plot(proportional[0], proportional[1], '--', c='#084594', linewidth=3, label='Proportional line', zorder=1)\n",
    "    \n",
    "    return"
   ]
  },
  {
   "cell_type": "code",
   "execution_count": null,
   "metadata": {
    "id": "QFvxjNTa87_M"
   },
   "outputs": [],
   "source": [
    "def bounding_box(frontier, idx, plt):\n",
    "    \n",
    "    b1 = [[0, maxTT(frontier, idx)],[maxAT(frontier, idx), maxAT(frontier, idx)]]\n",
    "    b2 = [[maxTT(frontier, idx), maxTT(frontier, idx)],[0, maxAT(frontier, idx)]]\n",
    "    plt.plot(b1[0], b1[1], '--', c='#cb181d', linewidth=3, label='Bounding box')\n",
    "    plt.plot(b2[0], b2[1], '--', c='#cb181d', linewidth=3)\n",
    "    return"
   ]
  },
  {
   "cell_type": "code",
   "execution_count": null,
   "metadata": {
    "id": "spHPkN_r87_N"
   },
   "outputs": [],
   "source": [
    "def abc_fun(frontier, idx, y):\n",
    "    g = abs(frontier[1][idx] - y)\n",
    "    abc = metrics.auc(frontier[0][idx], g)/(0.5*maxTT(frontier, idx)*maxAT(frontier, idx))\n",
    "    return abc"
   ]
  },
  {
   "cell_type": "markdown",
   "metadata": {
    "id": "1smB3eh287_N"
   },
   "source": [
    "# Throughput Frontier "
   ]
  },
  {
   "cell_type": "code",
   "execution_count": null,
   "metadata": {
    "id": "D3u739ge87_N"
   },
   "outputs": [],
   "source": [
    "clients = [\n",
    "['$TC=0$', '$TC=0.1*τ_{max}$', '$TC=0.2*τ_{max}$', '$TC=0.5*τ_{max}$', '$TC=0.8*τ_{max}$', '$TC=τ_{max}$'], \n",
    "['$AC=0$', '$AC=0.1*α_{max}$', '$AC=0.2*α_{max}$', '$AC=0.5*α_{max}$', '$AC=0.8*α_{max}$', '$AC=α_{max}$']\n",
    "]\n",
    "\n",
    "yaxes_size =30\n",
    "xaxes_size =30\n",
    "c = 30\n",
    "label_size = 38\n",
    "legend_size = 28\n",
    "sub_label_size=20"
   ]
  },
  {
   "cell_type": "code",
   "execution_count": null,
   "metadata": {},
   "outputs": [],
   "source": [
    "def draw_frontier_group(file, ax0, ax1, ax2, ylabel):\n",
    "    print(\"Drawing froniter from file:\", file)\n",
    "    tt_v, ta_v, tt_h, ta_h, district_tc, frontier, idx  = preprocess(path+file)\n",
    "    ax0.axis([0,max_t_qps, 0,max_a_qps])\n",
    "    ax1.axis([0,max_t_qps, 0,max_a_qps])\n",
    "    ax2.axis([0,max_t_qps, 0,max_a_qps])\n",
    "\n",
    "    ax0.set_xticks(x, minor=False)\n",
    "    ax0.set_xticklabels(xticks, rotation=0, fontsize=xaxes_size)\n",
    "    ax1.set_xticks(x, minor=False)\n",
    "    ax1.set_xticklabels(xticks, rotation=0, fontsize=xaxes_size)\n",
    "    ax2.set_xticks(x, minor=False)\n",
    "    ax2.set_xticklabels(xticks, rotation=0, fontsize=xaxes_size)\n",
    "\n",
    "    ax0.set_yticks(y, minor=False)\n",
    "    ax0.set_yticklabels(y2ticks, rotation=0, fontsize=yaxes_size)\n",
    "    ax1.set_yticks(y, minor=False)\n",
    "    ax1.set_yticklabels(yticks, rotation=0, fontsize=yaxes_size)\n",
    "    ax2.set_yticks(y, minor=False)\n",
    "    ax2.set_yticklabels(yticks, rotation=0, fontsize=yaxes_size)\n",
    "\n",
    "    ax2.yaxis.set_label_position(\"right\")\n",
    "    ax2.set_ylabel(ylabel, fontsize=sub_label_size) \n",
    "\n",
    "    tc, ac = regular_plot(tt_v, ta_v, 6, \"\", clients, 0, ax0)\n",
    "    regular_plot(tt_h, ta_h, 6, \"\", clients, 1, ax1)\n",
    "    proportional_line(frontier, idx, ax2)\n",
    "    bounding_box(frontier, idx, ax2)\n",
    "    frontier_plot(frontier, idx, \"\", ax2, tc, ac, 500, 0, 500, 0, -1000, 0, r\"$f_2:0s$\", r\"$f_5:0s$\", r\"$f_8:0s$\", 1)\n"
   ]
  },
  {
   "cell_type": "markdown",
   "metadata": {
    "id": "cbwpgnya87_P"
   },
   "source": [
    "# 3. TiDB"
   ]
  },
  {
   "cell_type": "code",
   "execution_count": null,
   "metadata": {
    "colab": {
     "base_uri": "https://localhost:8080/",
     "height": 1000
    },
    "id": "FOc3cJP487_P",
    "outputId": "37a379b9-0a24-4582-e65b-024f68b9363d"
   },
   "outputs": [],
   "source": [
    "cm = 1/2.54  # centimeters in inches\n",
    "\n",
    "nplots_rows = 1\n",
    "f_single, (ax7, ax8, ax9) \\\n",
    "    = plt.subplots(nplots_rows, 3, figsize=(60*cm,7.5*nplots_rows*cm))\n",
    "\n",
    "plt.subplots_adjust(wspace=0.08, hspace=0.2)\n",
    "plt.rcParams['figure.dpi'] = 200\n",
    "plt.rcParams['savefig.dpi'] = 200\n",
    "plt.rcParams['text.usetex'] = False\n",
    "\n",
    "t_qps_step = 1000\n",
    "max_t_qps = 5000\n",
    "x = [x for x in range(0, max_t_qps + t_qps_step, t_qps_step)]\n",
    "xticks = [str(int(xi/t_qps_step)) for xi in x]\n",
    "max_a_qps = 0.4\n",
    "y = [0, 0.1, 0.2, 0.3, 0.4]\n",
    "yticks = ['' for _ in y]\n",
    "y2ticks = ['0', ] + ['{:.1f}'.format(yi)[1:] for yi in y[1:]]\n",
    "\n",
    "# ------ tidb_dist, 3 tikv (1 replica), 1 tiflash, SF100 ------\n",
    "file = 'frontier-SF100.tidb_dist.1x.csv'\n",
    "draw_frontier_group(file, ax7, ax8, ax9, 'TiDB-Dist-1x')\n",
    "\n",
    "ax7.set_title('Fixed-T lines', fontsize=sub_label_size+10)\n",
    "ax8.set_title('Fixed-A lines', fontsize=sub_label_size+10)\n",
    "ax9.set_title('Throughput Frontier', fontsize=sub_label_size+10)\n",
    "ax7.set_ylabel('Analytical Throughput (qps)', fontsize=label_size-9, labelpad=30)\n",
    "ax8.set_xlabel('Transactinal Throughput ($10^3$ tps)', fontsize=label_size, labelpad=30)\n",
    "ax7.legend(loc='center left', bbox_to_anchor=(-0.05, 1.66),ncol=2, fontsize=legend_size ) \n",
    "ax8.legend(loc='upper left', bbox_to_anchor=(0.5,2.16),ncol=2, fontsize=legend_size ) \n",
    "\n",
    "#f_single.savefig(path+'Plots/tidb_1x.png', dpi=800, bbox_inches='tight')\n",
    "f_single.savefig(path+'Plots/tidb_1x.pdf', dpi=800, bbox_inches='tight')"
   ]
  },
  {
   "cell_type": "code",
   "execution_count": null,
   "metadata": {},
   "outputs": [],
   "source": [
    "nplots_rows = 5\n",
    "f, [\n",
    "    (ax7_pg, ax8_pg, ax9_pg),\n",
    "    (ax7_non_bind, ax8_non_bind, ax9_non_bind),\n",
    "    (ax7_bind, ax8_bind, ax9_bind),\n",
    "    (ax7_tidb_dist_1x, ax8_tidb_dist_1x, ax9_tidb_dist_1x),\n",
    "    (ax7_tidb_dist_2x, ax8_tidb_dist_2x, ax9_tidb_dist_2x),\n",
    "] = plt.subplots(nplots_rows, 3, figsize=(60*cm,7.5*nplots_rows*cm))\n",
    "\n",
    "plt.subplots_adjust(wspace=0.08, hspace=0.2)\n",
    "plt.rcParams['figure.dpi'] = 200\n",
    "plt.rcParams['savefig.dpi'] = 200\n",
    "plt.rcParams['text.usetex'] = False\n",
    "\n",
    "# ------ scale ------\n",
    "t_qps_step = 1000\n",
    "max_t_qps = 5000\n",
    "x = [x for x in range(0, max_t_qps + t_qps_step, t_qps_step)]\n",
    "xticks = [str(int(xi/1000)) for xi in x]\n",
    "max_a_qps = 0.4001\n",
    "a_qps_step = 0.1\n",
    "y = [0 + yi * a_qps_step + 0.01 for yi in range(int(max_a_qps / a_qps_step))]\n",
    "yticks = ['' for _ in y]\n",
    "y2ticks = ['0', ] + ['{:.1f}'.format(yi)[1:] for yi in y[1:]]\n",
    "\n",
    "# ------ pg SF100 ------\n",
    "file = \"frontier-SF100.pg.csv\"\n",
    "draw_frontier_group(file, ax7_pg, ax8_pg, ax9_pg, 'PostgreSQL')\n",
    "# ------ tidb SF100 ------\n",
    "file = \"frontier-SF100.tidb.csv\"\n",
    "draw_frontier_group(file, ax7_non_bind, ax8_non_bind, ax9_non_bind, 'TiDB')\n",
    "# ------ tidb SF100 CPU bind ------\n",
    "file = \"frontier-SF100.tidb.cpu_bind.csv\"\n",
    "draw_frontier_group(file, ax7_bind, ax8_bind, ax9_bind, 'TiDB_bind')\n",
    "# ------ tidb_dist, 3 tikv (1 replica), 1 tiflash, SF100 ------\n",
    "file = 'frontier-SF100.tidb_dist.1x.csv'\n",
    "draw_frontier_group(file, ax7_tidb_dist_1x, ax8_tidb_dist_1x, ax9_tidb_dist_1x, 'TiDB-Dist-1x')\n",
    "\n",
    "t_qps_step = 1000\n",
    "max_t_qps = 8500\n",
    "x = [x for x in range(0, max_t_qps + t_qps_step, t_qps_step)]\n",
    "xticks = [str(int(xi/1000)) for xi in x]\n",
    "max_a_qps = 0.7002\n",
    "a_qps_step = 0.1\n",
    "y = [0 + yi * a_qps_step + 0.01 for yi in range(int(max_a_qps / a_qps_step))]\n",
    "yticks = ['' for _ in y]\n",
    "y2ticks = ['0', ] + ['{:.1f}'.format(yi)[1:] for yi in y[1:]]\n",
    "# ------ tidb_dist, 6 tikv, 2 tiflash, SF100 ------\n",
    "file = 'frontier-SF100.tidb_dist.2x.csv'\n",
    "draw_frontier_group(file, ax7_tidb_dist_2x, ax8_tidb_dist_2x, ax9_tidb_dist_2x, 'TiDB-Dist-2x')\n",
    "\n",
    "ax7_pg.set_title('Fixed-T lines', fontsize=sub_label_size+10)\n",
    "ax8_pg.set_title('Fixed-A lines', fontsize=sub_label_size+10)\n",
    "ax9_pg.set_title('Throughput Frontier', fontsize=sub_label_size+10)\n",
    "ax7_bind.set_ylabel('Analytical Throughput (qps)', fontsize=label_size-9, labelpad=30)\n",
    "ax8_tidb_dist_2x.set_xlabel('Transactinal Throughput ($10^3$ tps)', fontsize=label_size, labelpad=30)\n",
    "ax7_pg.legend(loc='center left', bbox_to_anchor=(-0.05, 1.66),ncol=2, fontsize=legend_size ) \n",
    "ax8_pg.legend(loc='upper left', bbox_to_anchor=(0.5,2.26),ncol=2, fontsize=legend_size ) \n",
    "\n",
    "f.savefig(path+'Plots/tidb_scale.pdf', dpi=800, bbox_inches='tight')\n",
    "# f.savefig(path+'Plots/tidb_scale.png', dpi=800, bbox_inches='tight')"
   ]
  },
  {
   "cell_type": "markdown",
   "metadata": {
    "id": "RZYlR9St38VG"
   },
   "source": [
    "# Across Systems "
   ]
  },
  {
   "cell_type": "code",
   "execution_count": null,
   "metadata": {
    "colab": {
     "base_uri": "https://localhost:8080/",
     "height": 705
    },
    "id": "4N4Uhe2Zv1_N",
    "outputId": "b1dbd913-2111-4a01-acf7-3db87272d3a2"
   },
   "outputs": [],
   "source": [
    "import matplotlib.pyplot as plt\n",
    "import numpy as np\n",
    "\n",
    "plt.rcParams[\"figure.figsize\"] = [7.5, 3.5]\n",
    "#plt.rcParams[\"figure.autolayout\"] = True\n",
    "plt.rcParams['figure.dpi'] = 200\n",
    "plt.rcParams['savefig.dpi'] = 200\n",
    "plt.rcParams['text.usetex'] = True\n",
    "\n",
    "t_qps_step = 1000\n",
    "max_t_qps = 12000\n",
    "x = [x for x in range(0, max_t_qps + t_qps_step, t_qps_step)]\n",
    "xticks = [str(int(xi/t_qps_step)) for xi in x]\n",
    "a_qps_step = 0.1\n",
    "max_a_qps = 0.7001\n",
    "y = [0 + yi * a_qps_step + 0.01 for yi in range(int(max_a_qps / a_qps_step))]\n",
    "#print(y)\n",
    "yticks = ['' for _ in y]\n",
    "y2ticks = ['{:.1f}'.format(yi) for yi in y]\n",
    "\n",
    "plt.axis([0,max_t_qps, 0,max_a_qps])\n",
    "\n",
    "def draw_group(file, color):\n",
    "    tt_v, ta_v, _tt_h, _ta_h, district_tc, frontier, idx = preprocess(path+file)\n",
    "    tc, ac = regular_plot(tt_v, ta_v, district_tc, \"\", clients, 0, ax7)\n",
    "    plt.scatter(tc[1], ac[1], marker=\"o\", s=50, color=color,zorder=3)\n",
    "    arrow_properties = dict(facecolor=\"black\", width=0.5,headwidth=0, shrink=0.1)\n",
    "    plt.annotate(r'$f_5:0s$', (tc[1], ac[1]), xytext =(tc[1]+400, ac[1]+a_qps_step/2), color='#000000', size=12, weight='bold', arrowprops=arrow_properties)\n",
    "    return frontier, idx\n",
    "\n",
    "# 'slateblue'/'green'/'cyan'/'darkorange'/'firebrick'\n",
    "# ------ PostgreSQL ------\n",
    "file = 'frontier-SF100.pg.csv'\n",
    "frontier0, idx0 = draw_group(file, 'cyan')\n",
    "plt.plot(frontier0[0][idx0], frontier0[1][idx0], '-', linewidth=3.0, label='PostgreSQL', color='cyan')\n",
    "# # ------ tidb SF100 CPU bind ------\n",
    "# file=\"frontier-SF100.tidb.csv\"\n",
    "# frontier3, idx3 = draw_group(file, 'cyan')\n",
    "# plt.plot(frontier3[0][idx3], frontier3[1][idx3], '-', linewidth=3.0, label='TiDB', color='cyan')\n",
    "# # ------ tidb SF100 CPU bind ------\n",
    "# file = \"frontier-SF100.tidb.cpu_bind.csv\"\n",
    "# frontier4, idx4 = draw_group(file, 'green')\n",
    "# plt.plot(frontier4[0][idx4], frontier4[1][idx4], '-', linewidth=3.0, label='TiDB-bind', color='green')\n",
    "# ------ tidb_dist, 3 tikv, 1 tiflash, SF100 ------\n",
    "file = 'frontier-SF100.tidb_dist.1x.csv'\n",
    "frontier5, idx5 = draw_group(file, 'green')\n",
    "plt.plot(frontier5[0][idx5], frontier5[1][idx5], '-', linewidth=3.0, label='TiDB-Dist-1x', color='green')\n",
    "# ------ tidb_dist, 6 tikv, 2 tiflash, SF100 ------\n",
    "file = 'frontier-SF100.tidb_dist.2x.csv'\n",
    "frontier6, idx6 = draw_group(file, 'firebrick')\n",
    "plt.plot(frontier6[0][idx6], frontier6[1][idx6], '-', linewidth=3.0, label='TiDB-Dist-2x', color='firebrick')\n",
    "\n",
    "plt.xticks(x, xticks, fontsize=12)\n",
    "plt.yticks(y,y2ticks, fontsize=12)\n",
    "\n",
    "plt.xlabel('Transactional Throughput ($10^3$ tps)', fontsize=13)\n",
    "plt.ylabel('Analytical Throughput (qps)', fontsize=13)\n",
    "plt.rc('grid', linestyle=\"--\", color='#CCCCCC')\n",
    "plt.legend(loc=\"upper right\", fontsize=12) # bbox_to_anchor=(1.05, 1.2), ncol=5)\n",
    "plt.grid()\n",
    "plt.savefig(path+'/Plots/across.png', dpi=400, bbox_inches='tight')\n",
    "#plt.savefig(path+'/Plots/across.png', dpi=400, bbox_inches='tight')\n",
    "plt.show()"
   ]
  }
 ],
 "metadata": {
  "colab": {
   "collapsed_sections": [
    "w6oxG3NPyCKd"
   ],
   "name": "Frontier-Results-REVISION.ipynb",
   "provenance": []
  },
  "kernelspec": {
   "display_name": "Python 3 (ipykernel)",
   "language": "python",
   "name": "python3"
  },
  "language_info": {
   "codemirror_mode": {
    "name": "ipython",
    "version": 3
   },
   "file_extension": ".py",
   "mimetype": "text/x-python",
   "name": "python",
   "nbconvert_exporter": "python",
   "pygments_lexer": "ipython3",
   "version": "3.9.13"
  },
  "vscode": {
   "interpreter": {
    "hash": "50292dbb1f747f7151d445135d392af3138fb3c65386d17d9510cb605222b10b"
   }
  }
 },
 "nbformat": 4,
 "nbformat_minor": 1
}
